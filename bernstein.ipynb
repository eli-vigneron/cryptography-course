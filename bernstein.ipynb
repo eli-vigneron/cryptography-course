{
 "cells": [
  {
   "cell_type": "code",
   "execution_count": 1,
   "metadata": {},
   "outputs": [],
   "source": [
    "\n",
    "def product_tree(X, bound):\n",
    "    '''\n",
    "    input: X list, bound for the products to be added to the tree\n",
    "    output: Binary product tree with each row of the tree a list,\n",
    "    leaves as the first entry\n",
    "    '''\n",
    "    result = [X]\n",
    "    while len(X) > 1:\n",
    "        if bound == -1:\n",
    "            X = [prod(X[i*2:(i+1)*2]) for i in range(int((len(X)+1)/2))]\n",
    "            result.append(X)\n",
    "        else:    \n",
    "            row = []\n",
    "            for i in range(int((len(X)+1)/2)):\n",
    "                prd = prod(X[i*2:(i+1)*2])\n",
    "                if prd <= bound:\n",
    "                    row.append(prd)\n",
    "                else:\n",
    "                    row.append(0)\n",
    "            X = row\n",
    "            result.append(X)\n",
    "    return result\n",
    "\n",
    "\n",
    "def bernstein(factor_base, check_list):\n",
    "    # STEP 1\n",
    "    # compute the product trees\n",
    "    p_tree = product_tree(factor_base, -1)\n",
    "    P = p_tree[-1][0]    # grab the root, which is the product of the factor base\n",
    "    T = product_tree(check_list, P)\n",
    "    \n",
    "    # STEP 2\n",
    "    # compute the remainder tree P mod T\n",
    "    remainder_tree = []\n",
    "    for row in T:\n",
    "        dummy_row = []\n",
    "        for j in row:\n",
    "            if j != 0:\n",
    "                dummy_row.append(P % j)\n",
    "            else:\n",
    "                dummy_row.append(P)\n",
    "        remainder_tree.append(dummy_row)\n",
    "                \n",
    "\n",
    "    #STEP 3\n",
    "    # getting smooth parts\n",
    "    smooths = []\n",
    "    e = ceil(log(log(max(check_list), 2), 2))\n",
    "    for i, x in enumerate(check_list):\n",
    "        s = ((remainder_tree[0][i]^2)^e) % x\n",
    "        # g = gcd(s, x)\n",
    "        # print(g)\n",
    "        if s == 0:\n",
    "            smooths.append(x)\n",
    "    return smooths"
   ]
  },
  {
   "cell_type": "markdown",
   "metadata": {},
   "source": [
    "We look at the example from Section 3 of the corresponding pdf, as well as double check \n",
    "that these are indeed smooth."
   ]
  },
  {
   "cell_type": "code",
   "execution_count": 6,
   "metadata": {},
   "outputs": [
    {
     "name": "stdout",
     "output_type": "stream",
     "text": [
      "[1001, 1008]\n",
      "7 * 11 * 13\n",
      "2 * 3 * 167\n",
      "17 * 59\n",
      "2^2 * 251\n",
      "3 * 5 * 67\n",
      "2 * 503\n",
      "19 * 53\n",
      "2^4 * 3^2 * 7\n"
     ]
    }
   ],
   "source": [
    "factor_base = list(primes(20))\n",
    "X = [1001, 1002, 1003, 1004, 1005, 1006, 1007, 1008]\n",
    "\n",
    "print(bernstein(factor_base, X))\n",
    "\n",
    "# double check\n",
    "for i in X:\n",
    "    print(factor(i))"
   ]
  }
 ],
 "metadata": {
  "kernelspec": {
   "display_name": "SageMath 9.0",
   "language": "sage",
   "name": "sagemath"
  },
  "language_info": {
   "codemirror_mode": {
    "name": "ipython",
    "version": 3
   },
   "file_extension": ".py",
   "mimetype": "text/x-python",
   "name": "python",
   "nbconvert_exporter": "python",
   "pygments_lexer": "ipython3",
   "version": "3.7.3"
  }
 },
 "nbformat": 4,
 "nbformat_minor": 2
}
