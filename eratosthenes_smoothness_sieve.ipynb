{
 "cells": [
  {
   "cell_type": "code",
   "execution_count": 1,
   "metadata": {},
   "outputs": [],
   "source": [
    "def smoothness_sieve(limit, bound):\n",
    "    a = [1] * limit                          # Initialize the primality list\n",
    "    a[0] = a[1] = 0\n",
    "    \n",
    "    error = float(log(bound, 2))\n",
    "    \n",
    "    prime_powers = {}\n",
    "    factors = a.copy()\n",
    "    log_factors = [2.0]*limit\n",
    "    factors = [[] for i in range(limit)]\n",
    "\n",
    "    for (i, isprime) in enumerate(a):\n",
    "        if isprime:\n",
    "            #print('prime', i)\n",
    "            \n",
    "            prime_power_base = i\n",
    "            \n",
    "            if i in prime_powers:\n",
    "                prime_power_base = prime_powers.get(i)\n",
    "    \n",
    "            if prime_power_base <= bound:\n",
    "                # need to sieve with powers of i\n",
    "                for k in range(1, limit):\n",
    "                    pp = prime_power_base^k\n",
    "                    prime_powers[pp] = prime_power_base\n",
    "                    if pp > limit:\n",
    "                        break\n",
    "            \n",
    "            if prime_power_base > bound:    # skip\n",
    "                continue\n",
    "            \n",
    "            log_p = round(log(prime_power_base, 2))\n",
    "            \n",
    "            for n in range(i, limit, i):\n",
    "                \n",
    "                factors[n].append(prime_power_base)\n",
    "                if n not in prime_powers:\n",
    "                    a[n] = 0    # Mark factors non-prime\n",
    "                \n",
    "                log_factors[n] += log_p\n",
    "        \n",
    "                if log_factors[n] > error:\n",
    "                    if prod(factors[n]) == n:\n",
    "                        yield n, factors[n]"
   ]
  },
  {
   "cell_type": "code",
   "execution_count": 5,
   "metadata": {},
   "outputs": [
    {
     "data": {
      "text/plain": [
       "{2: [2],\n",
       " 3: [3],\n",
       " 6: [2, 3],\n",
       " 4: [2, 2],\n",
       " 12: [2, 3, 2],\n",
       " 8: [2, 2, 2],\n",
       " 24: [2, 3, 2, 2],\n",
       " 9: [3, 3],\n",
       " 18: [2, 3, 3],\n",
       " 36: [2, 3, 2, 3],\n",
       " 72: [2, 3, 2, 2, 3],\n",
       " 16: [2, 2, 2, 2],\n",
       " 48: [2, 3, 2, 2, 2],\n",
       " 144: [2, 3, 2, 2, 3, 2],\n",
       " 27: [3, 3, 3],\n",
       " 54: [2, 3, 3, 3],\n",
       " 108: [2, 3, 2, 3, 3],\n",
       " 32: [2, 2, 2, 2, 2],\n",
       " 96: [2, 3, 2, 2, 2, 2],\n",
       " 64: [2, 2, 2, 2, 2, 2],\n",
       " 192: [2, 3, 2, 2, 2, 2, 2],\n",
       " 81: [3, 3, 3, 3],\n",
       " 162: [2, 3, 3, 3, 3],\n",
       " 128: [2, 2, 2, 2, 2, 2, 2]}"
      ]
     },
     "execution_count": 5,
     "metadata": {},
     "output_type": "execute_result"
    }
   ],
   "source": [
    "dict(smoothness_sieve(200, 3))"
   ]
  },
  {
   "cell_type": "code",
   "execution_count": null,
   "metadata": {},
   "outputs": [],
   "source": []
  }
 ],
 "metadata": {
  "kernelspec": {
   "display_name": "SageMath 9.0",
   "language": "sage",
   "name": "sagemath"
  },
  "language_info": {
   "codemirror_mode": {
    "name": "ipython",
    "version": 3
   },
   "file_extension": ".py",
   "mimetype": "text/x-python",
   "name": "python",
   "nbconvert_exporter": "python",
   "pygments_lexer": "ipython3",
   "version": "3.7.3"
  }
 },
 "nbformat": 4,
 "nbformat_minor": 2
}
