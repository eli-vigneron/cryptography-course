{
 "cells": [
  {
   "cell_type": "code",
   "execution_count": 1,
   "metadata": {},
   "outputs": [],
   "source": [
    "def check_if_smooth(n, prod_factor_base):\n",
    "    \"\"\"\n",
    "    checks to see if n can be factored over a given factor base\n",
    "    running time is y^1+o(1) where y is the y-smooth\n",
    "    \"\"\"\n",
    "\n",
    "    g = gcd(n, prod_factor_base)\n",
    "\n",
    "    if g > 1:                    # then n = rg^e for some e >= 1\n",
    "\n",
    "        # want to find the first e such that g^e | n\n",
    "        e = 1\n",
    "        r = n / g^e\n",
    "\n",
    "        # increment e until r lives in Z\n",
    "        while r not in ZZ:\n",
    "            e += 1\n",
    "            r = n / g^e\n",
    "\n",
    "        if r == 1:               # then n is smooth\n",
    "            return True\n",
    "\n",
    "        elif r != 1:             # recurse\n",
    "            return check_if_smooth(r, prod_factor_base)\n",
    "\n",
    "    else:\n",
    "        return False"
   ]
  },
  {
   "cell_type": "code",
   "execution_count": 4,
   "metadata": {},
   "outputs": [
    {
     "name": "stdout",
     "output_type": "stream",
     "text": [
      "2\n",
      "3\n",
      "4\n",
      "6\n",
      "8\n",
      "9\n",
      "12\n",
      "16\n",
      "18\n",
      "24\n",
      "27\n",
      "32\n",
      "36\n",
      "48\n",
      "54\n",
      "64\n",
      "72\n",
      "81\n",
      "96\n",
      "108\n",
      "128\n",
      "144\n",
      "162\n",
      "192\n"
     ]
    }
   ],
   "source": [
    "prod_factor_base = prod([2, 3])\n",
    "for i in range(1, 200):\n",
    "    if check_if_smooth(i, prod_factor_base):\n",
    "        print(i)"
   ]
  }
 ],
 "metadata": {
  "kernelspec": {
   "display_name": "SageMath 9.0",
   "language": "sage",
   "name": "sagemath"
  },
  "language_info": {
   "codemirror_mode": {
    "name": "ipython",
    "version": 3
   },
   "file_extension": ".py",
   "mimetype": "text/x-python",
   "name": "python",
   "nbconvert_exporter": "python",
   "pygments_lexer": "ipython3",
   "version": "3.7.3"
  }
 },
 "nbformat": 4,
 "nbformat_minor": 2
}
