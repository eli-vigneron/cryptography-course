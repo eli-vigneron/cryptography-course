{
 "cells": [
  {
   "cell_type": "code",
   "execution_count": 2,
   "metadata": {},
   "outputs": [],
   "source": [
    "def check_if_smooth(n, prod_factor_base):\n",
    "    \"\"\"\n",
    "    checks to see if n can be factored over a given factor base\n",
    "    running time is y^1+o(1) where y is the y-smooth\n",
    "    \"\"\"\n",
    "\n",
    "    g = gcd(n, prod_factor_base)\n",
    "\n",
    "    if g > 1:                    # then n = rg^e for some e >= 1\n",
    "\n",
    "        # want to find the first e such that g^e | n\n",
    "        e = 1\n",
    "        r = n / g^e\n",
    "\n",
    "        # increment e until r lives in Z\n",
    "        while r not in ZZ:\n",
    "            e += 1\n",
    "            r = n / g^e\n",
    "\n",
    "        if r == 1:               # then n is smooth\n",
    "            return True\n",
    "\n",
    "        elif r != 1:             # recurse\n",
    "            return check_if_smooth(r, prod_factor_base)\n",
    "\n",
    "    else:\n",
    "        return False\n",
    "\n",
    "\n",
    "def index_calc(g, q, h, bound):\n",
    "    \"\"\"\n",
    "    input discrete log generator g, modulus q, argument h, factor base bound {-1,2,3,5,7,11,...,p_r} : p_r < bound\n",
    "    output x such that g^x = h (mod q)\n",
    "    \"\"\"\n",
    "\n",
    "    # get the factor base as a list\n",
    "    factor_base = list(primes(bound))\n",
    "\n",
    "    # compute the product of the factor base, this is used in the smoothness checking algorithm\n",
    "    prd = prod(factor_base)\n",
    "\n",
    "    relations = []               # 2d list to be populated with relation vectors\n",
    "\n",
    "\n",
    "    g_k = 1\n",
    "    for k in range(1, q-1):\n",
    "\n",
    "        # compute g^k\n",
    "        #g_k = g^k % q\n",
    "        g_k = g_k*g % q\n",
    "\n",
    "        # check if g_k can be factored over the factor base, if it cannot, skip until it can\n",
    "        if check_if_smooth(g_k, prd):\n",
    "\n",
    "            # we want to find e_i's such that g^k mod q = (-1)^e_0 * 2^e_1 * 3, ... , p_r^e_r\n",
    "\n",
    "            g_k_factorisation = list(factor(g_k))    # first get the prime factorisation stored as [(2, e_1), (3, e_2)...]\n",
    "\n",
    "            # ----------------------------------------------------------------------\n",
    "            # turn this into a list of factors with zeros included (maybe a better way?)\n",
    "            canonical_g_k = g_k_factorisation\n",
    "            prms = [p for p,e in g_k_factorisation]\n",
    "            stop_prime = Primes().next(factor_base[-1])\n",
    "\n",
    "            for premier in primes(2, stop=stop_prime):\n",
    "                if premier not in prms:\n",
    "                    canonical_g_k.append((premier,0))\n",
    "\n",
    "            # sort this by the primes\n",
    "            canonical_g_k = sorted(canonical_g_k, key=lambda tup: tup[0])\n",
    "            # ----------------------------------------------------------------------\n",
    "\n",
    "            # extract the exponents\n",
    "            exponents = [e for p,e in canonical_g_k]\n",
    "            exp_vector = vector(exponents + [k])\n",
    "\n",
    "            # handle the case where it's empty list\n",
    "            if len(relations) == 0:\n",
    "                relations.append(exp_vector)\n",
    "\n",
    "            # add it to end of relations\n",
    "            relations_temp = matrix(relations).insert_row(len(relations), exp_vector)\n",
    "\n",
    "            # check to see that this is lin ind with other relations\n",
    "            if relations_temp.rank() == len(relations)+1:\n",
    "                relations = list(relations_temp)\n",
    "\n",
    "                # exit once there are at last r+1 relations\n",
    "                if len(relations) >= len(factor_base):\n",
    "                    break               \n",
    "                    \n",
    "    # obtain rref of relations matrix (last column is log_g(2), log_g(3), ...)\n",
    "    relations = matrix(relations).rref()\n",
    "\n",
    "    # extract last column and mod appropriately\n",
    "    relations_last_col = vector([j % (q-1) for j in relations.column(-1)])\n",
    "\n",
    "    # now we need to factor g^s*h mod q over the factor base\n",
    "    s = 1\n",
    "    gsh = g^s*h % q\n",
    "\n",
    "    while not check_if_smooth(gsh, prd):    # loop until there is an s such that we have a factorization\n",
    "        s += 1\n",
    "        gsh = g^s*h % q\n",
    "    \n",
    "    \n",
    "    gsh_factorisation = list(factor(gsh))\n",
    "\n",
    "    # strip the primes\n",
    "    prms2 = [p for p,e in gsh_factorisation]\n",
    "\n",
    "    # strip the exponents\n",
    "    exponents2 = [f for p,f in gsh_factorisation]\n",
    "\n",
    "    # need zeros in the exponents...\n",
    "    for index, p2 in enumerate(factor_base):\n",
    "        if p2 not in prms2:\n",
    "            exponents2.insert(index, 0)\n",
    "\n",
    "    # cast as vector\n",
    "    exponents2 = vector(exponents2)\n",
    "\n",
    "    # compute the dot product of exponents and logs and discard s\n",
    "    x = (exponents2.dot_product(relations_last_col) - s) % (q - 1)\n",
    "    return x\n"
   ]
  },
  {
   "cell_type": "markdown",
   "metadata": {},
   "source": [
    "We look at some examples"
   ]
  },
  {
   "cell_type": "code",
   "execution_count": 9,
   "metadata": {},
   "outputs": [
    {
     "name": "stdout",
     "output_type": "stream",
     "text": [
      "38\n"
     ]
    }
   ],
   "source": [
    "# toy examples\n",
    "#1\n",
    "\n",
    "q = 83\n",
    "g = 2\n",
    "h = 31\n",
    "bound = 10\n",
    "\n",
    "print(index_calc(g,q,h,bound))\n",
    "# %timeit x = index_calc(g,q,h,bound)\n"
   ]
  },
  {
   "cell_type": "code",
   "execution_count": 10,
   "metadata": {},
   "outputs": [
    {
     "data": {
      "text/plain": [
       "31"
      ]
     },
     "execution_count": 10,
     "metadata": {},
     "output_type": "execute_result"
    }
   ],
   "source": [
    "# Check\n",
    "g^38 % q"
   ]
  },
  {
   "cell_type": "code",
   "execution_count": 11,
   "metadata": {},
   "outputs": [
    {
     "name": "stdout",
     "output_type": "stream",
     "text": [
      "9577170\n"
     ]
    }
   ],
   "source": [
    "#2\n",
    "q = 16785407\n",
    "F = GF(q)\n",
    "g = int(F.multiplicative_generator())\n",
    "h = 99342\n",
    "bound = 100\n",
    "print(index_calc(g,q,h,bound))"
   ]
  },
  {
   "cell_type": "code",
   "execution_count": 13,
   "metadata": {},
   "outputs": [
    {
     "data": {
      "text/plain": [
       "99342"
      ]
     },
     "execution_count": 13,
     "metadata": {},
     "output_type": "execute_result"
    }
   ],
   "source": [
    "# Check\n",
    "g^9577170 % q"
   ]
  },
  {
   "cell_type": "code",
   "execution_count": 15,
   "metadata": {},
   "outputs": [
    {
     "name": "stdout",
     "output_type": "stream",
     "text": [
      "725427234\n"
     ]
    }
   ],
   "source": [
    "#3\n",
    "q = 1553012977\n",
    "F = GF(q)\n",
    "g = int(F.multiplicative_generator())\n",
    "h = 993423443\n",
    "bound = 100\n",
    "print(index_calc(g,q,h,bound))"
   ]
  }
 ],
 "metadata": {
  "kernelspec": {
   "display_name": "SageMath 9.0",
   "language": "sage",
   "name": "sagemath"
  },
  "language_info": {
   "codemirror_mode": {
    "name": "ipython",
    "version": 3
   },
   "file_extension": ".py",
   "mimetype": "text/x-python",
   "name": "python",
   "nbconvert_exporter": "python",
   "pygments_lexer": "ipython3",
   "version": "3.7.3"
  }
 },
 "nbformat": 4,
 "nbformat_minor": 2
}
